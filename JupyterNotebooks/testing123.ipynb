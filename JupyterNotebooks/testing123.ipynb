{
 "cells": [
  {
   "cell_type": "code",
   "execution_count": null,
   "id": "4f7ca93a",
   "metadata": {},
   "outputs": [],
   "source": [
    "from pathlib import Path  \n",
    "from hnl_fire_data import esriservicetools"
   ]
  },
  {
   "cell_type": "code",
   "execution_count": null,
   "id": "2bdac79b",
   "metadata": {},
   "outputs": [
    {
     "name": "stdout",
     "output_type": "stream",
     "text": [
      "Hello World!\n"
     ]
    }
   ],
   "source": [
    "esriservicetools.print_hello()"
   ]
  },
  {
   "cell_type": "code",
   "execution_count": null,
   "id": "5f164331",
   "metadata": {},
   "outputs": [],
   "source": [
    "import pandas as pd"
   ]
  }
 ],
 "metadata": {
  "kernelspec": {
   "display_name": "default",
   "language": "python",
   "name": "python3"
  },
  "language_info": {
   "codemirror_mode": {
    "name": "ipython",
    "version": 3
   },
   "file_extension": ".py",
   "mimetype": "text/x-python",
   "name": "python",
   "nbconvert_exporter": "python",
   "pygments_lexer": "ipython3"
  }
 },
 "nbformat": 4,
 "nbformat_minor": 5
}
